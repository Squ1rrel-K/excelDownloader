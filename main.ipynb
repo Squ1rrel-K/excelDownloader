{
 "cells": [
  {
   "cell_type": "code",
   "execution_count": 2,
   "metadata": {
    "collapsed": true,
    "ExecuteTime": {
     "start_time": "2023-04-10T20:47:32.612323Z",
     "end_time": "2023-04-10T20:47:33.312601Z"
    }
   },
   "outputs": [],
   "source": [
    "import logging\n",
    "import shutil\n",
    "import time\n",
    "\n",
    "import requests\n",
    "import pandas as pd\n",
    "import numpy as np\n",
    "import tqdm\n",
    "\n",
    "excel_path = 'GSE部分未下载链接.xlsx'"
   ]
  },
  {
   "cell_type": "code",
   "execution_count": 3,
   "outputs": [
    {
     "data": {
      "text/plain": "0     https://www.ncbi.nlm.nih.gov/geo/download/?acc...\n1     https://www.ncbi.nlm.nih.gov/geo/download/?acc...\n2     https://www.ncbi.nlm.nih.gov/geo/download/?acc...\n3     https://www.ncbi.nlm.nih.gov/geo/download/?acc...\n4     https://www.ncbi.nlm.nih.gov/geo/download/?acc...\n                            ...                        \n61    https://www.ncbi.nlm.nih.gov/geo/download/?acc...\n62    https://www.ncbi.nlm.nih.gov/geo/download/?acc...\n63    https://ftp.ncbi.nlm.nih.gov/geo/series/GSE97n...\n64    https://www.ncbi.nlm.nih.gov/geo/download/?acc...\n65    https://www.ncbi.nlm.nih.gov/geo/download/?acc...\nName: 未下载文件地址, Length: 66, dtype: object"
     },
     "execution_count": 3,
     "metadata": {},
     "output_type": "execute_result"
    }
   ],
   "source": [
    "gene_less_than_20 = pd.read_excel(excel_path, sheet_name='GSE小于20未下载')\n",
    "gene_more_than_20 = pd.read_excel(excel_path, sheet_name='GSE大于20未下载')\n",
    "url_list_A = pd.Series(gene_less_than_20.loc[:, '未下载文件地址'])\n",
    "url_list_B = pd.Series(gene_more_than_20.loc[:, '未下载文件地址'])"
   ],
   "metadata": {
    "collapsed": false,
    "ExecuteTime": {
     "start_time": "2023-04-10T20:47:33.312601Z",
     "end_time": "2023-04-10T20:47:36.619466Z"
    }
   }
  },
  {
   "cell_type": "code",
   "execution_count": 5,
   "outputs": [],
   "source": [
    "for i in range(0, len(url_list_A)):\n",
    "    with requests.get(url_list_A[i], stream=True) as r:\n",
    "        file_name = str(int(time.time())) + '.rar'\n",
    "        with open(file_name, 'wb') as f:\n",
    "            shutil.copyfileobj(r.raw, f)"
   ],
   "metadata": {
    "collapsed": false,
    "ExecuteTime": {
     "start_time": "2023-04-10T20:48:54.300346Z",
     "end_time": "2023-04-10T20:51:51.533169Z"
    }
   }
  },
  {
   "cell_type": "code",
   "execution_count": 4,
   "outputs": [],
   "source": [
    "for i in range(0, len(url_list_B)):\n",
    "    with requests.get(url_list_B[i], stream=True) as r:\n",
    "        file_name = str(int(time.time())) + '.rar'\n",
    "        with open(file_name, 'wb') as f:\n",
    "            shutil.copyfileobj(r.raw, f)"
   ],
   "metadata": {
    "collapsed": false,
    "ExecuteTime": {
     "start_time": "2023-04-10T20:48:54.300346Z",
     "end_time": "2023-04-10T20:48:54.314888Z"
    }
   }
  },
  {
   "cell_type": "code",
   "execution_count": 4,
   "outputs": [],
   "source": [],
   "metadata": {
    "collapsed": false,
    "ExecuteTime": {
     "start_time": "2023-04-10T20:48:54.314888Z",
     "end_time": "2023-04-10T20:48:54.331512Z"
    }
   }
  }
 ],
 "metadata": {
  "kernelspec": {
   "display_name": "Python 3",
   "language": "python",
   "name": "python3"
  },
  "language_info": {
   "codemirror_mode": {
    "name": "ipython",
    "version": 2
   },
   "file_extension": ".py",
   "mimetype": "text/x-python",
   "name": "python",
   "nbconvert_exporter": "python",
   "pygments_lexer": "ipython2",
   "version": "2.7.6"
  }
 },
 "nbformat": 4,
 "nbformat_minor": 0
}
